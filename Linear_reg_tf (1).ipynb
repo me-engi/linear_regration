{
  "nbformat": 4,
  "nbformat_minor": 0,
  "metadata": {
    "colab": {
      "provenance": []
    },
    "kernelspec": {
      "name": "python3",
      "display_name": "Python 3"
    },
    "language_info": {
      "name": "python"
    }
  },
  "cells": [
    {
      "cell_type": "code",
      "execution_count": null,
      "metadata": {
        "colab": {
          "base_uri": "https://localhost:8080/"
        },
        "id": "1eKoOGEBnUCP",
        "outputId": "c51ee722-feae-4a23-e7a1-ffb5b40ff1c3"
      },
      "outputs": [
        {
          "output_type": "stream",
          "name": "stderr",
          "text": [
            "WARNING:tensorflow:From /usr/local/lib/python3.8/dist-packages/tensorflow/python/compat/v2_compat.py:107: disable_resource_variables (from tensorflow.python.ops.variable_scope) is deprecated and will be removed in a future version.\n",
            "Instructions for updating:\n",
            "non-resource variables are not supported in the long term\n"
          ]
        }
      ],
      "source": [
        "import numpy as np\n",
        "import tensorflow as tf\n",
        "import matplotlib.pyplot as plt\n",
        "import tensorflow.compat.v1 as tf\n",
        "tf.disable_v2_behavior()\n",
        "\n",
        "\n"
      ]
    },
    {
      "cell_type": "code",
      "source": [
        "np.random.seed(101)\n",
        "\n",
        "x = np.linspace(0, 50, 50)\n",
        "y = np.linspace(0, 50, 50)\n",
        " \n",
        "# Adding noise to the random linear data\n",
        "x += np.random.uniform(-4, 4, 50)\n",
        "y += np.random.uniform(-4, 4, 50)\n",
        " \n",
        "n = len(x) # Number of data points\n",
        "plt.scatter(x, y)\n",
        "plt.xlabel('x')\n",
        "plt.ylabel('y')\n",
        "plt.title(\"Training Data\")\n",
        "plt.show()\n"
      ],
      "metadata": {
        "colab": {
          "base_uri": "https://localhost:8080/",
          "height": 295
        },
        "id": "mRWCoRWLphI8",
        "outputId": "5e27424d-8df0-4d53-d9f9-71f3c255d1ee"
      },
      "execution_count": null,
      "outputs": [
        {
          "output_type": "display_data",
          "data": {
            "text/plain": [
              "<Figure size 432x288 with 1 Axes>"
            ],
            "image/png": "[encoded data removed]"
          },
          "metadata": {
            "needs_background": "light"
          }
        }
      ]
    },
    {
      "cell_type": "code",
      "source": [
        "X = tf.placeholder(\"float\")\n",
        "Y = tf.placeholder(\"float\")\n",
        "W = tf.Variable(np.random.randn(), name = \"W\")\n",
        "b = tf.Variable(np.random.randn(), name = \"b\")\n",
        "learning_rate = 0.01\n",
        "training_epochs = 1000\n",
        "y_pred = tf.add(tf.multiply(X, W), b)\n",
        " \n",
        "# Mean Squared Error Cost Function\n",
        "cost = tf.reduce_sum(tf.pow(y_pred-Y, 2)) / (2 * n)\n",
        " \n",
        "# Gradient Descent Optimizer\n",
        "optimizer = tf.train.GradientDescentOptimizer(learning_rate).minimize(cost)\n",
        " \n",
        "# Global Variables Initializer\n",
        "init = tf.global_variables_initializer()\n",
        "with tf.Session() as sess:\n",
        "     \n",
        "    # Initializing the Variables\n",
        "    sess.run(init)\n",
        "     \n",
        "    # Iterating through all the epochs\n",
        "    for epoch in range(training_epochs):\n",
        "         \n",
        "        # Feeding each data point into the optimizer using Feed Dictionary\n",
        "        for (_x, _y) in zip(x, y):\n",
        "            sess.run(optimizer, feed_dict = {X : _x, Y : _y})\n",
        "         \n",
        "        # Displaying the result after every 50 epochs\n",
        "        if (epoch + 1) % 50 == 0:\n",
        "            # Calculating the cost a every epoch\n",
        "            c = sess.run(cost, feed_dict = {X : x, Y : y})\n",
        "            print(\"Epoch\", (epoch + 1), \": cost =\", c, \"W =\", sess.run(W), \"b =\", sess.run(b))\n",
        "     \n",
        "    # Storing necessary values to be used outside the Session\n",
        "    training_cost = sess.run(cost, feed_dict ={X: x, Y: y})\n",
        "    weight = sess.run(W)\n",
        "    bias = sess.run(b)\n",
        "    predictions = weight * x + bias\n",
        "    print(\"Training cost =\", training_cost, \"Weight =\", weight, \"bias =\", bias, '\\n')\n"
      ],
      "metadata": {
        "colab": {
          "base_uri": "https://localhost:8080/"
        },
        "id": "ikRayI_UsXlo",
        "outputId": "7ea8a375-6f1b-46f0-fcc8-d04e40bb51f1"
      },
      "execution_count": null,
      "outputs": [
        {
          "output_type": "stream",
          "name": "stdout",
          "text": [
            "Epoch 50 : cost = 5.8868036 W = 0.9951241 b = 1.238105\n",
            "Epoch 100 : cost = 5.79127 W = 0.99812365 b = 1.0914395\n",
            "Epoch 150 : cost = 5.7119684 W = 1.0008028 b = 0.96044284\n",
            "Epoch 200 : cost = 5.6459413 W = 1.0031956 b = 0.84343934\n",
            "Epoch 250 : cost = 5.5907993 W = 1.0053328 b = 0.7389355\n",
            "Epoch 300 : cost = 5.544608 W = 1.007242 b = 0.6455921\n",
            "Epoch 350 : cost = 5.5057893 W = 1.008947 b = 0.56221986\n",
            "Epoch 400 : cost = 5.473066 W = 1.01047 b = 0.48775342\n",
            "Epoch 450 : cost = 5.445385 W = 1.0118302 b = 0.42124158\n",
            "Epoch 500 : cost = 5.4219036 W = 1.0130452 b = 0.36183482\n",
            "Epoch 550 : cost = 5.4019227 W = 1.0141305 b = 0.30877408\n",
            "Epoch 600 : cost = 5.3848557 W = 1.0150996 b = 0.2613811\n",
            "Epoch 650 : cost = 5.370246 W = 1.0159653 b = 0.21905078\n",
            "Epoch 700 : cost = 5.3576994 W = 1.0167387 b = 0.18124203\n",
            "Epoch 750 : cost = 5.3468933 W = 1.0174294 b = 0.14747237\n",
            "Epoch 800 : cost = 5.337558 W = 1.0180461 b = 0.11730931\n",
            "Epoch 850 : cost = 5.3294754 W = 1.0185971 b = 0.090368524\n",
            "Epoch 900 : cost = 5.322459 W = 1.0190892 b = 0.06630575\n",
            "Epoch 950 : cost = 5.3163586 W = 1.0195289 b = 0.044813294\n",
            "Epoch 1000 : cost = 5.3110332 W = 1.0199214 b = 0.02561658\n",
            "Training cost = 5.3110332 Weight = 1.0199214 bias = 0.02561658 \n",
            "\n"
          ]
        }
      ]
    }
  ]
}